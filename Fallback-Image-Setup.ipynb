{
 "cells": [
  {
   "cell_type": "markdown",
   "id": "a0341c80",
   "metadata": {},
   "source": [
    "# Fallback Image Setup\n",
    "\n",
    "This notebook shows the commands to set up the fallback image structure for the project.\n",
    "\n",
    "Run these commands in your project root directory to create the necessary directories and placeholder images:"
   ]
  },
  {
   "cell_type": "code",
   "execution_count": 1,
   "id": "9798e361",
   "metadata": {},
   "outputs": [
    {
     "ename": "SyntaxError",
     "evalue": "unterminated string literal (detected at line 10) (1827262534.py, line 10)",
     "output_type": "error",
     "traceback": [
      "  \u001b[36mCell\u001b[39m\u001b[36m \u001b[39m\u001b[32mIn[1]\u001b[39m\u001b[32m, line 10\u001b[39m\n\u001b[31m    \u001b[39m\u001b[31mecho '<svg xmlns=\"http://www.w3.org/2000/svg\" width=\"300\" height=\"200\" viewBox=\"0 0 300 200\">\u001b[39m\n         ^\n\u001b[31mSyntaxError\u001b[39m\u001b[31m:\u001b[39m unterminated string literal (detected at line 10)\n"
     ]
    }
   ],
   "source": [
    "#!/bin/bash\n",
    "\n",
    "# Create the fallback images directory structure\n",
    "mkdir -p /Users/manishkumar/Projects/RAGIJI/website-landingpage/public/images/fallbacks\n",
    "\n",
    "# Create basic placeholder images for different content types\n",
    "# You can replace these with actual placeholders later\n",
    "\n",
    "# Create story placeholder\n",
    "echo '<svg xmlns=\"http://www.w3.org/2000/svg\" width=\"300\" height=\"200\" viewBox=\"0 0 300 200\">\n",
    "  <rect width=\"300\" height=\"200\" fill=\"#f0f0f0\"/>\n",
    "  <text x=\"50%\" y=\"50%\" font-family=\"Arial\" font-size=\"24\" text-anchor=\"middle\" fill=\"#999\">Story Image</text>\n",
    "</svg>' > /Users/manishkumar/Projects/RAGIJI/website-landingpage/public/images/fallbacks/story-placeholder.svg\n",
    "\n",
    "# Create blog placeholder\n",
    "echo '<svg xmlns=\"http://www.w3.org/2000/svg\" width=\"300\" height=\"200\" viewBox=\"0 0 300 200\">\n",
    "  <rect width=\"300\" height=\"200\" fill=\"#f0f0f0\"/>\n",
    "  <text x=\"50%\" y=\"50%\" font-family=\"Arial\" font-size=\"24\" text-anchor=\"middle\" fill=\"#999\">Blog Image</text>\n",
    "</svg>' > /Users/manishkumar/Projects/RAGIJI/website-landingpage/public/images/fallbacks/blog-placeholder.svg\n",
    "\n",
    "# Create center placeholder\n",
    "echo '<svg xmlns=\"http://www.w3.org/2000/svg\" width=\"300\" height=\"200\" viewBox=\"0 0 300 200\">\n",
    "  <rect width=\"300\" height=\"200\" fill=\"#f0f0f0\"/>\n",
    "  <text x=\"50%\" y=\"50%\" font-family=\"Arial\" font-size=\"24\" text-anchor=\"middle\" fill=\"#999\">Center Image</text>\n",
    "</svg>' > /Users/manishkumar/Projects/RAGIJI/website-landingpage/public/images/fallbacks/center-placeholder.svg\n",
    "\n",
    "# Create initiative placeholder\n",
    "echo '<svg xmlns=\"http://www.w3.org/2000/svg\" width=\"300\" height=\"200\" viewBox=\"0 0 300 200\">\n",
    "  <rect width=\"300\" height=\"200\" fill=\"#f0f0f0\"/>\n",
    "  <text x=\"50%\" y=\"50%\" font-family=\"Arial\" font-size=\"24\" text-anchor=\"middle\" fill=\"#999\">Initiative Image</text>\n",
    "</svg>' > /Users/manishkumar/Projects/RAGIJI/website-landingpage/public/images/fallbacks/initiative-placeholder.svg\n",
    "\n",
    "# Create news placeholder\n",
    "echo '<svg xmlns=\"http://www.w3.org/2000/svg\" width=\"300\" height=\"200\" viewBox=\"0 0 300 200\">\n",
    "  <rect width=\"300\" height=\"200\" fill=\"#f0f0f0\"/>\n",
    "  <text x=\"50%\" y=\"50%\" font-family=\"Arial\" font-size=\"24\" text-anchor=\"middle\" fill=\"#999\">News Image</text>\n",
    "</svg>' > /Users/manishkumar/Projects/RAGIJI/website-landingpage/public/images/fallbacks/news-placeholder.svg\n",
    "\n",
    "# Create gallery placeholder\n",
    "echo '<svg xmlns=\"http://www.w3.org/2000/svg\" width=\"300\" height=\"200\" viewBox=\"0 0 300 200\">\n",
    "  <rect width=\"300\" height=\"200\" fill=\"#f0f0f0\"/>\n",
    "  <text x=\"50%\" y=\"50%\" font-family=\"Arial\" font-size=\"24\" text-anchor=\"middle\" fill=\"#999\">Gallery Image</text>\n",
    "</svg>' > /Users/manishkumar/Projects/RAGIJI/website-landingpage/public/images/fallbacks/gallery-placeholder.svg\n",
    "\n",
    "# Create person placeholder\n",
    "echo '<svg xmlns=\"http://www.w3.org/2000/svg\" width=\"300\" height=\"300\" viewBox=\"0 0 300 300\">\n",
    "  <rect width=\"300\" height=\"300\" fill=\"#f0f0f0\"/>\n",
    "  <circle cx=\"150\" cy=\"120\" r=\"70\" fill=\"#d0d0d0\"/>\n",
    "  <circle cx=\"150\" cy=\"320\" r=\"120\" fill=\"#d0d0d0\"/>\n",
    "</svg>' > /Users/manishkumar/Projects/RAGIJI/website-landingpage/public/images/fallbacks/person-placeholder.svg\n",
    "\n",
    "# Create career placeholder\n",
    "echo '<svg xmlns=\"http://www.w3.org/2000/svg\" width=\"300\" height=\"200\" viewBox=\"0 0 300 200\">\n",
    "  <rect width=\"300\" height=\"200\" fill=\"#f0f0f0\"/>\n",
    "  <text x=\"50%\" y=\"50%\" font-family=\"Arial\" font-size=\"24\" text-anchor=\"middle\" fill=\"#999\">Career Image</text>\n",
    "</svg>' > /Users/manishkumar/Projects/RAGIJI/website-landingpage/public/images/fallbacks/career-placeholder.svg\n",
    "\n",
    "# Generic placeholder\n",
    "echo '<svg xmlns=\"http://www.w3.org/2000/svg\" width=\"300\" height=\"200\" viewBox=\"0 0 300 200\">\n",
    "  <rect width=\"300\" height=\"200\" fill=\"#f0f0f0\"/>\n",
    "  <text x=\"50%\" y=\"50%\" font-family=\"Arial\" font-size=\"24\" text-anchor=\"middle\" fill=\"#999\">Image</text>\n",
    "</svg>' > /Users/manishkumar/Projects/RAGIJI/website-landingpage/public/images/fallbacks/placeholder.svg\n",
    "\n",
    "echo \"Placeholder SVG images created. Convert these to JPG files for better compatibility.\""
   ]
  }
 ],
 "metadata": {
  "kernelspec": {
   "display_name": "Python 3",
   "language": "python",
   "name": "python3"
  },
  "language_info": {
   "codemirror_mode": {
    "name": "ipython",
    "version": 3
   },
   "file_extension": ".py",
   "mimetype": "text/x-python",
   "name": "python",
   "nbconvert_exporter": "python",
   "pygments_lexer": "ipython3",
   "version": "3.11.12"
  }
 },
 "nbformat": 4,
 "nbformat_minor": 5
}
