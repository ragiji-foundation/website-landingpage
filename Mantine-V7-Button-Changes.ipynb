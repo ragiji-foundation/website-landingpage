{
 "cells": [
  {
   "cell_type": "markdown",
   "id": "23da7d75",
   "metadata": {},
   "source": [
    "# Mantine v7 Button Component Changes\n",
    "\n",
    "In Mantine v7, there are several important changes to how icons are used with Button components:\n",
    "\n",
    "## Icon Props Changes\n",
    "\n",
    "### Old syntax (v6 and earlier):\n",
    "```tsx\n",
    "<Button leftIcon={<IconSearch size={16} />} rightIcon={<IconArrowRight size={16} />}>\n",
    "  Button with icons\n",
    "</Button>\n",
    "```\n",
    "\n",
    "### New syntax (v7+):\n",
    "```tsx\n",
    "<Button leftSection={<IconSearch size={16} />} rightSection={<IconArrowRight size={16} />}>\n",
    "  Button with icons\n",
    "</Button>\n",
    "```\n",
    "\n",
    "## What Changed?\n",
    "- `leftIcon` is now `leftSection`\n",
    "- `rightIcon` is now `rightSection`\n",
    "- Both sections can now contain any React elements, not just icons\n",
    "\n",
    "## Files Updated:\n",
    "- `/src/app/[locale]/(media)/news-coverage/page.tsx`"
   ]
  },
  {
   "cell_type": "code",
   "execution_count": null,
   "id": "e7be7332",
   "metadata": {
    "vscode": {
     "languageId": "bash"
    }
   },
   "outputs": [],
   "source": [
    "#!/bin/bash\n",
    "\n",
    "# Search for occurrences of leftIcon and rightIcon in all TypeScript and TSX files\n",
    "echo \"Searching for Button icon props that need updating...\"\n",
    "\n",
    "echo -e \"\\n--- leftIcon occurrences ---\"\n",
    "grep -r \"leftIcon\" --include=\"*.tsx\" --include=\"*.ts\" /Users/manishkumar/Projects/RAGIJI/website-landingpage/src\n",
    "\n",
    "echo -e \"\\n--- rightIcon occurrences ---\"\n",
    "grep -r \"rightIcon\" --include=\"*.tsx\" --include=\"*.ts\" /Users/manishkumar/Projects/RAGIJI/website-landingpage/src\n",
    "\n",
    "echo -e \"\\nThese instances should be updated to use leftSection and rightSection instead.\""
   ]
  },
  {
   "cell_type": "markdown",
   "id": "81c83a61",
   "metadata": {},
   "source": [
    "# Mantine v7 Image Component Changes\n",
    "\n",
    "In Mantine v7, the Image component has also been updated with improvements to its fallback handling:\n",
    "\n",
    "## New and Improved Image Component\n",
    "\n",
    "### Using fallback with Image component\n",
    "```tsx\n",
    "// Mantine v7 recommended approach\n",
    "<Image\n",
    "  src={imageUrl}\n",
    "  alt=\"Description\"\n",
    "  fallbackSrc=\"/path/to/fallback-image.jpg\"\n",
    "  height={200}\n",
    "  width={300}\n",
    "/>\n",
    "```\n",
    "\n",
    "The `fallbackSrc` prop provides a more streamlined way to handle missing images and loading states.\n",
    "\n",
    "## How This Helps\n",
    "\n",
    "1. **Better Error Handling**: Gracefully handles missing images without showing broken image placeholders\n",
    "2. **Improved User Experience**: Shows a meaningful fallback instead of an error\n",
    "3. **Type Safety**: The component is properly typed to accept all these parameters\n",
    "\n",
    "This approach is being used throughout the RAGIJI Foundation website to ensure a consistent user experience even when images fail to load."
   ]
  }
 ],
 "metadata": {
  "language_info": {
   "name": "python"
  }
 },
 "nbformat": 4,
 "nbformat_minor": 5
}
