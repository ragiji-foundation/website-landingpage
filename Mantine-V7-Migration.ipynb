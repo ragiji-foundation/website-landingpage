{
 "cells": [
  {
   "cell_type": "markdown",
   "id": "ce54abac",
   "metadata": {},
   "source": [
    "# Mantine V7 Migration Guide: Grid Components\n",
    "\n",
    "When upgrading from earlier versions of Mantine to Mantine v7, the responsive breakpoints syntax has changed.\n",
    "\n",
    "## Key Changes\n",
    "\n",
    "### Old syntax:\n",
    "```tsx\n",
    "<Grid.Col xs={12} sm={6} md={4} lg={3}>\n",
    "  {/* content */}\n",
    "</Grid.Col>\n",
    "```\n",
    "\n",
    "### New syntax:\n",
    "```tsx\n",
    "<Grid.Col span={{ base: 12, sm: 6, md: 4, lg: 3 }}>\n",
    "  {/* content */}\n",
    "</Grid.Col>\n",
    "```\n",
    "\n",
    "The `span` prop now takes an object with breakpoint keys instead of separate props for each breakpoint.\n",
    "\n",
    "## Files to Update\n",
    "\n",
    "In our project, we need to update all Grid.Col components in the following files:\n",
    "\n",
    "1. `/Users/manishkumar/Projects/RAGIJI/website-landingpage/src/app/[locale]/(about-us)/the-need/page.tsx`\n",
    "\n",
    "## Required Changes\n",
    "\n",
    "For all `Grid.Col` components:\n",
    "- Replace responsive props like `md={6}` with `span={{ base: 12, md: 6 }}`\n",
    "- When multiple breakpoints are used (e.g., `xs={12} sm={6} md={4}`), combine them into a single `span` prop\n",
    "- Keep all other props unchanged"
   ]
  },
  {
   "cell_type": "code",
   "execution_count": null,
   "id": "b3179906",
   "metadata": {
    "vscode": {
     "languageId": "bash"
    }
   },
   "outputs": [],
   "source": [
    "#!/bin/bash\n",
    "\n",
    "# Navigate to the project directory\n",
    "cd /Users/manishkumar/Projects/RAGIJI/website-landingpage/src/app/[locale]/\\(about-us\\)/the-need/\n",
    "\n",
    "# Make a backup of the original file\n",
    "cp page.tsx page.tsx.bak\n",
    "\n",
    "# Replace the original with the fixed version\n",
    "mv fixed-page.tsx page.tsx\n",
    "\n",
    "echo \"Successfully replaced the-need/page.tsx with the fixed version\""
   ]
  }
 ],
 "metadata": {
  "language_info": {
   "name": "python"
  }
 },
 "nbformat": 4,
 "nbformat_minor": 5
}
